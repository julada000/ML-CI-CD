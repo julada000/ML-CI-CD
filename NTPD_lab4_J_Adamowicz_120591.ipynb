{
 "cells": [
  {
   "cell_type": "markdown",
   "id": "2ce9ff6a-9bd4-41c6-9c8c-cf32b49d7938",
   "metadata": {},
   "source": [
    "Laboratorium 4:  Docker i konteneryzacja modelu ML"
   ]
  },
  {
   "cell_type": "code",
   "execution_count": 17,
   "id": "3b46a257-9eab-4f96-9ed1-982a7bd34847",
   "metadata": {},
   "outputs": [
    {
     "name": "stdout",
     "output_type": "stream",
     "text": [
      "Overwriting requirements.txt\n"
     ]
    }
   ],
   "source": [
    "%%writefile requirements.txt\n",
    "flask\n",
    "numpy\n",
    "scikit-learn\n",
    "gunicorn"
   ]
  },
  {
   "cell_type": "code",
   "execution_count": 18,
   "id": "69d01885-3c03-4135-aaa7-cab8ed727bf9",
   "metadata": {},
   "outputs": [
    {
     "name": "stdout",
     "output_type": "stream",
     "text": [
      "Writing C:\\Users\\julia\\JupyterNotebook\\Dockerfile\n"
     ]
    }
   ],
   "source": [
    "%%writefile C:\\Users\\julia\\JupyterNotebook\\Dockerfile\n",
    "#Użycie lekkiego obrazu Pythona\n",
    "FROM python:3.9-slim\n",
    "\n",
    "#Ustawienie katalogu roboczego\n",
    "WORKDIR /app\n",
    "\n",
    "#Kopiowanie plików aplikacji\n",
    "COPY . /app\n",
    "\n",
    "#Instalacja zależności\n",
    "RUN pip install --no-cache-dir -r requirements.txt\n",
    "\n",
    "#Wystawienie portu\n",
    "EXPOSE 5000\n",
    "\n",
    "#Uruchomienie serwera Gunicorn\n",
    "CMD [\"gunicorn\", \"-w\", \"4\", \"-b\", \"0.0.0.0:5000\", \"app:app\"]"
   ]
  },
  {
   "cell_type": "code",
   "execution_count": 19,
   "id": "e1b436bb-3826-4484-8b5b-1128387655ca",
   "metadata": {},
   "outputs": [
    {
     "name": "stdout",
     "output_type": "stream",
     "text": [
      "Overwriting C:\\Users\\julia\\JupyterNotebook\\app.py\n"
     ]
    }
   ],
   "source": [
    "%%writefile C:\\Users\\julia\\JupyterNotebook\\app.py\n",
    "from flask import Flask, request, jsonify\n",
    "import numpy as np\n",
    "from sklearn.linear_model import LinearRegression\n",
    "\n",
    "app = Flask(__name__)\n",
    "\n",
    "# Przykładowe dane do trenowania modelu ML\n",
    "X = np.array([[1], [2], [3], [4], [5]])\n",
    "y = np.array([2, 4, 6, 8, 10])\n",
    "model = LinearRegression().fit(X, y)\n",
    "\n",
    "@app.route(\"/\", methods=[\"GET\"])\n",
    "def home():\n",
    "    return jsonify({\"student\": \"Julia Adamowicz\"})\n",
    "\n",
    "@app.route(\"/predict\", methods=[\"POST\"])\n",
    "def predict():\n",
    "    data = request.get_json()\n",
    "    if \"input\" not in data:\n",
    "        return jsonify({\"error\": \"Brak wymaganej wartosci\"}), 400\n",
    "    try:\n",
    "        input_value = np.array([[data[\"input\"]]])\n",
    "        prediction = model.predict(input_value).tolist()\n",
    "        return jsonify({\"prediction\": prediction})\n",
    "    except Exception as e:\n",
    "        return jsonify({\"error\": str(e)}), 400\n",
    "\n",
    "if __name__ == \"__main__\":\n",
    "    app.run(host=\"0.0.0.0\", port=5000)"
   ]
  },
  {
   "cell_type": "code",
   "execution_count": 20,
   "id": "678a1a58-a6a4-4ff2-9664-349cdabefa01",
   "metadata": {},
   "outputs": [
    {
     "name": "stdout",
     "output_type": "stream",
     "text": [
      "{\"student\":\"Julia Adamowicz\"}\n"
     ]
    },
    {
     "name": "stderr",
     "output_type": "stream",
     "text": [
      "  % Total    % Received % Xferd  Average Speed   Time    Time     Time  Current\n",
      "                                 Dload  Upload   Total   Spent    Left  Speed\n",
      "\n",
      "  0     0    0     0    0     0      0      0 --:--:-- --:--:-- --:--:--     0\n",
      "100    30  100    30    0     0    128      0 --:--:-- --:--:-- --:--:--   128\n"
     ]
    }
   ],
   "source": [
    "!curl http://localhost:5000"
   ]
  },
  {
   "cell_type": "code",
   "execution_count": 21,
   "id": "fa0be041-6012-4be9-ac9d-17140694beec",
   "metadata": {},
   "outputs": [
    {
     "name": "stdout",
     "output_type": "stream",
     "text": [
      "{\"prediction\":[10.0]}\n"
     ]
    },
    {
     "name": "stderr",
     "output_type": "stream",
     "text": [
      "  % Total    % Received % Xferd  Average Speed   Time    Time     Time  Current\n",
      "                                 Dload  Upload   Total   Spent    Left  Speed\n",
      "\n",
      "  0     0    0     0    0     0      0      0 --:--:-- --:--:-- --:--:--     0\n",
      "  0     0    0     0    0     0      0      0 --:--:-- --:--:-- --:--:--     0\n",
      "100    34  100    22  100    12    105     57 --:--:-- --:--:-- --:--:--   163\n"
     ]
    }
   ],
   "source": [
    "!curl -X POST http://localhost:5000/predict -H \"Content-Type: application/json\" -d \"{\\\"input\\\": 5}\""
   ]
  },
  {
   "cell_type": "code",
   "execution_count": 21,
   "id": "afb5ed17-96ba-44c9-9e46-db7f5d2e5b36",
   "metadata": {},
   "outputs": [
    {
     "name": "stdout",
     "output_type": "stream",
     "text": [
      "Collecting redis\n",
      "  Downloading redis-5.2.1-py3-none-any.whl.metadata (9.1 kB)\n",
      "Downloading redis-5.2.1-py3-none-any.whl (261 kB)\n",
      "Installing collected packages: redis\n",
      "Successfully installed redis-5.2.1\n"
     ]
    },
    {
     "name": "stderr",
     "output_type": "stream",
     "text": [
      "\n",
      "[notice] A new release of pip is available: 24.3.1 -> 25.0.1\n",
      "[notice] To update, run: python.exe -m pip install --upgrade pip\n"
     ]
    }
   ],
   "source": [
    "!pip install redis"
   ]
  },
  {
   "cell_type": "code",
   "execution_count": 9,
   "id": "892ec165-8796-4ca3-8a82-f092aaaf1afe",
   "metadata": {},
   "outputs": [
    {
     "name": "stdout",
     "output_type": "stream",
     "text": [
      "Writing C:\\Users\\julia\\JupyterNotebook\\app.py\n"
     ]
    }
   ],
   "source": [
    "%%writefile C:\\Users\\julia\\JupyterNotebook\\app.py\n",
    "from flask import Flask, request, jsonify\n",
    "import numpy as np\n",
    "import redis\n",
    "from sklearn.linear_model import LinearRegression\n",
    "\n",
    "app = Flask(__name__)\n",
    "\n",
    "# Połączenie z Redis (host \"redis\" zamiast \"localhost\", bo Docker używa nazw kontenerów)\n",
    "redis_client = redis.Redis(host=\"redis-1\", port=6379, decode_responses=True)\n",
    "\n",
    "# Przykładowe dane do trenowania modelu ML\n",
    "X = np.array([[1], [2], [3], [4], [5]])\n",
    "y = np.array([2, 4, 6, 8, 10])\n",
    "model = LinearRegression().fit(X, y)\n",
    "\n",
    "@app.route(\"/\", methods=[\"GET\"])\n",
    "def home():\n",
    "    return jsonify({\"student\": \"Julia Adamowicz\"})\n",
    "\n",
    "@app.route(\"/predict\", methods=[\"POST\"])\n",
    "def predict():\n",
    "    data = request.get_json()\n",
    "    if \"input\" not in data:\n",
    "        return jsonify({\"error\": \"Brak wymaganej wartosci\"}), 400\n",
    "    try:\n",
    "        input_value = np.array([[data[\"input\"]]])\n",
    "        prediction = model.predict(input_value).tolist()\n",
    "            \n",
    "        # Zapis wyniku do Redis\n",
    "        redis_client.set(\"last_prediction\", prediction[0])\n",
    "\n",
    "        return jsonify({\"prediction\": prediction})\n",
    "    except Exception as e:\n",
    "        return jsonify({\"error\": str(e)}), 400\n",
    "\n",
    "@app.route(\"/last\", methods=[\"GET\"])\n",
    "def last_prediction():\n",
    "    \"\"\" Pobiera ostatnią predykcję z Redis \"\"\"\n",
    "    last_pred = redis_client.get(\"last_prediction\")\n",
    "    if last_pred is None:\n",
    "        return jsonify({\"error\": \"Brak zapisanej predykcji\"}), 404\n",
    "    return jsonify({\"last_prediction\": float(last_pred)})\n",
    "\n",
    "if __name__ == \"__main__\":\n",
    "    app.run(host=\"0.0.0.0\", port=5000)"
   ]
  },
  {
   "cell_type": "code",
   "execution_count": 2,
   "id": "17cf9a47-50e1-4a53-9c8f-f84331a960b2",
   "metadata": {},
   "outputs": [
    {
     "name": "stdout",
     "output_type": "stream",
     "text": [
      "{\"student\":\"Julia Adamowicz\"}\n"
     ]
    },
    {
     "name": "stderr",
     "output_type": "stream",
     "text": [
      "  % Total    % Received % Xferd  Average Speed   Time    Time     Time  Current\n",
      "                                 Dload  Upload   Total   Spent    Left  Speed\n",
      "\n",
      "  0     0    0     0    0     0      0      0 --:--:-- --:--:-- --:--:--     0\n",
      "100    30  100    30    0     0   1296      0 --:--:-- --:--:-- --:--:--  1304\n"
     ]
    }
   ],
   "source": [
    "!curl http://localhost:5000/"
   ]
  },
  {
   "cell_type": "code",
   "execution_count": 3,
   "id": "5f884fcb-77d8-4393-b0e8-32ee9f578393",
   "metadata": {},
   "outputs": [
    {
     "name": "stdout",
     "output_type": "stream",
     "text": [
      "{\"prediction\":[10.0]}\n"
     ]
    },
    {
     "name": "stderr",
     "output_type": "stream",
     "text": [
      "  % Total    % Received % Xferd  Average Speed   Time    Time     Time  Current\n",
      "                                 Dload  Upload   Total   Spent    Left  Speed\n",
      "\n",
      "  0     0    0     0    0     0      0      0 --:--:-- --:--:-- --:--:--     0\n",
      "100    34  100    22  100    12   1103    602 --:--:-- --:--:-- --:--:--  1789\n"
     ]
    }
   ],
   "source": [
    "!curl -X POST http://localhost:5000/predict -H \"Content-Type: application/json\" -d \"{\\\"input\\\": 5}\""
   ]
  },
  {
   "cell_type": "code",
   "execution_count": 7,
   "id": "eb556c8d-383b-4178-a1e7-ab2c604de341",
   "metadata": {},
   "outputs": [
    {
     "name": "stdout",
     "output_type": "stream",
     "text": [
      "{\"last_prediction\":10.0}\n"
     ]
    },
    {
     "name": "stderr",
     "output_type": "stream",
     "text": [
      "  % Total    % Received % Xferd  Average Speed   Time    Time     Time  Current\n",
      "                                 Dload  Upload   Total   Spent    Left  Speed\n",
      "\n",
      "  0     0    0     0    0     0      0      0 --:--:-- --:--:-- --:--:--     0\n",
      "100    25  100    25    0     0   2006      0 --:--:-- --:--:-- --:--:--  2083\n"
     ]
    }
   ],
   "source": [
    "!curl http://localhost:5000/last"
   ]
  },
  {
   "cell_type": "code",
   "execution_count": 1,
   "id": "6e829c07-a81a-4a63-9cf6-04a838d667fc",
   "metadata": {},
   "outputs": [
    {
     "name": "stdout",
     "output_type": "stream",
     "text": [
      "{\"prediction\":[10.0]}\n"
     ]
    },
    {
     "name": "stderr",
     "output_type": "stream",
     "text": [
      "  % Total    % Received % Xferd  Average Speed   Time    Time     Time  Current\n",
      "                                 Dload  Upload   Total   Spent    Left  Speed\n",
      "\n",
      "  0     0    0     0    0     0      0      0 --:--:-- --:--:-- --:--:--     0\n",
      "  0     0    0     0    0     0      0      0 --:--:-- --:--:-- --:--:--     0\n",
      "100    34  100    22  100    12     67     37 --:--:-- --:--:-- --:--:--   105\n"
     ]
    }
   ],
   "source": [
    "!curl -X POST https://flask-ml-app-628335485123.us-central1.run.app/predict -H \"Content-Type: application/json\" -d \"{\\\"input\\\": 5}\""
   ]
  },
  {
   "cell_type": "code",
   "execution_count": 1,
   "id": "7a171cf7-9b18-4c5d-b0eb-c64da956bf62",
   "metadata": {},
   "outputs": [
    {
     "name": "stdout",
     "output_type": "stream",
     "text": [
      "Writing C:\\Users\\julia\\JupyterNotebook\\NTPD4\\ML-CI-CD\\test_app.py\n"
     ]
    },
    {
     "ename": "FileNotFoundError",
     "evalue": "[Errno 2] No such file or directory: 'C:\\\\Users\\\\julia\\\\JupyterNotebook\\\\NTPD4\\\\ML-CI-CD\\\\test_app.py'",
     "output_type": "error",
     "traceback": [
      "\u001b[31m---------------------------------------------------------------------------\u001b[39m",
      "\u001b[31mFileNotFoundError\u001b[39m                         Traceback (most recent call last)",
      "\u001b[36mCell\u001b[39m\u001b[36m \u001b[39m\u001b[32mIn[1]\u001b[39m\u001b[32m, line 1\u001b[39m\n\u001b[32m----> \u001b[39m\u001b[32m1\u001b[39m \u001b[43mget_ipython\u001b[49m\u001b[43m(\u001b[49m\u001b[43m)\u001b[49m\u001b[43m.\u001b[49m\u001b[43mrun_cell_magic\u001b[49m\u001b[43m(\u001b[49m\u001b[33;43m'\u001b[39;49m\u001b[33;43mwritefile\u001b[39;49m\u001b[33;43m'\u001b[39;49m\u001b[43m,\u001b[49m\u001b[43m \u001b[49m\u001b[33;43m'\u001b[39;49m\u001b[33;43mC:\u001b[39;49m\u001b[38;5;130;43;01m\\\\\u001b[39;49;00m\u001b[33;43mUsers\u001b[39;49m\u001b[38;5;130;43;01m\\\\\u001b[39;49;00m\u001b[33;43mjulia\u001b[39;49m\u001b[38;5;130;43;01m\\\\\u001b[39;49;00m\u001b[33;43mJupyterNotebook\u001b[39;49m\u001b[38;5;130;43;01m\\\\\u001b[39;49;00m\u001b[33;43mNTPD4\u001b[39;49m\u001b[38;5;130;43;01m\\\\\u001b[39;49;00m\u001b[33;43mML-CI-CD\u001b[39;49m\u001b[38;5;130;43;01m\\\\\u001b[39;49;00m\u001b[33;43mtest_app.py\u001b[39;49m\u001b[33;43m'\u001b[39;49m\u001b[43m,\u001b[49m\u001b[43m \u001b[49m\u001b[33;43m'\u001b[39;49m\u001b[33;43mimport numpy as np\u001b[39;49m\u001b[38;5;130;43;01m\\n\u001b[39;49;00m\u001b[33;43mfrom model import train_and_predict, get_accuracy\u001b[39;49m\u001b[38;5;130;43;01m\\n\u001b[39;49;00m\u001b[38;5;130;43;01m\\n\u001b[39;49;00m\u001b[33;43mdef test_predictions_not_none():\u001b[39;49m\u001b[38;5;130;43;01m\\n\u001b[39;49;00m\u001b[33;43m    \u001b[39;49m\u001b[33;43m\"\u001b[39;49m\u001b[33;43m\"\u001b[39;49m\u001b[33;43m\"\u001b[39;49m\u001b[38;5;130;43;01m\\n\u001b[39;49;00m\u001b[33;43m    Test 1: Sprawdza, czy otrzymujemy jakąkolwiek predykcję.\u001b[39;49m\u001b[38;5;130;43;01m\\n\u001b[39;49;00m\u001b[33;43m    \u001b[39;49m\u001b[33;43m\"\u001b[39;49m\u001b[33;43m\"\u001b[39;49m\u001b[33;43m\"\u001b[39;49m\u001b[38;5;130;43;01m\\n\u001b[39;49;00m\u001b[33;43m    preds, _ = train_and_predict()\u001b[39;49m\u001b[38;5;130;43;01m\\n\u001b[39;49;00m\u001b[33;43m    assert preds is not None, \u001b[39;49m\u001b[33;43m\"\u001b[39;49m\u001b[33;43mPredictions should not be None.\u001b[39;49m\u001b[33;43m\"\u001b[39;49m\u001b[38;5;130;43;01m\\n\u001b[39;49;00m\u001b[38;5;130;43;01m\\n\u001b[39;49;00m\u001b[33;43mdef test_predictions_length():\u001b[39;49m\u001b[38;5;130;43;01m\\n\u001b[39;49;00m\u001b[33;43m    \u001b[39;49m\u001b[33;43m\"\u001b[39;49m\u001b[33;43m\"\u001b[39;49m\u001b[33;43m\"\u001b[39;49m\u001b[38;5;130;43;01m\\n\u001b[39;49;00m\u001b[33;43m    Test 2 (na maksymalną ocenę 5): Sprawdza, czy długość listy predykcji jest większa od 0 i czy odpowiada liczbie próbek testowych.\u001b[39;49m\u001b[38;5;130;43;01m\\n\u001b[39;49;00m\u001b[33;43m    \u001b[39;49m\u001b[33;43m\"\u001b[39;49m\u001b[33;43m\"\u001b[39;49m\u001b[33;43m\"\u001b[39;49m\u001b[38;5;130;43;01m\\n\u001b[39;49;00m\u001b[33;43m    preds, y_test = train_and_predict()\u001b[39;49m\u001b[38;5;130;43;01m\\n\u001b[39;49;00m\u001b[33;43m    assert len(preds) > 0, \u001b[39;49m\u001b[33;43m\"\u001b[39;49m\u001b[33;43mLista predykcji powinna zawierać co najmniej jeden element.\u001b[39;49m\u001b[33;43m\"\u001b[39;49m\u001b[38;5;130;43;01m\\n\u001b[39;49;00m\u001b[33;43m    assert len(preds) == len(y_test), f\u001b[39;49m\u001b[33;43m\"\u001b[39;49m\u001b[33;43mDługość predykcji (\u001b[39;49m\u001b[33;43m{\u001b[39;49m\u001b[33;43mlen(preds)}) nie zgadza się z liczbą próbek testowych (\u001b[39;49m\u001b[33;43m{\u001b[39;49m\u001b[33;43mlen(y_test)}).\u001b[39;49m\u001b[33;43m\"\u001b[39;49m\u001b[38;5;130;43;01m\\n\u001b[39;49;00m\u001b[38;5;130;43;01m\\n\u001b[39;49;00m\u001b[33;43mdef test_predictions_value_range():\u001b[39;49m\u001b[38;5;130;43;01m\\n\u001b[39;49;00m\u001b[33;43m    \u001b[39;49m\u001b[33;43m\"\u001b[39;49m\u001b[33;43m\"\u001b[39;49m\u001b[33;43m\"\u001b[39;49m\u001b[38;5;130;43;01m\\n\u001b[39;49;00m\u001b[33;43m    Test 3 (na maksymalną ocenę 5): Sprawdza, czy wartości w predykcjach mieszczą się w spodziewanym zakresie: Dla zbioru Iris mamy 3 klasy (0, 1, 2).\u001b[39;49m\u001b[38;5;130;43;01m\\n\u001b[39;49;00m\u001b[33;43m    \u001b[39;49m\u001b[33;43m\"\u001b[39;49m\u001b[33;43m\"\u001b[39;49m\u001b[33;43m\"\u001b[39;49m\u001b[38;5;130;43;01m\\n\u001b[39;49;00m\u001b[33;43m    preds, _ = train_and_predict()\u001b[39;49m\u001b[38;5;130;43;01m\\n\u001b[39;49;00m\u001b[33;43m    assert all(pred in [0, 1, 2] for pred in preds), f\u001b[39;49m\u001b[33;43m\"\u001b[39;49m\u001b[33;43mPredykcje powinny być w zakresie 0-2, ale znaleziono: \u001b[39;49m\u001b[33;43m{\u001b[39;49m\u001b[33;43mset(preds)}\u001b[39;49m\u001b[33;43m\"\u001b[39;49m\u001b[38;5;130;43;01m\\n\u001b[39;49;00m\u001b[38;5;130;43;01m\\n\u001b[39;49;00m\u001b[33;43mdef test_model_accuracy():\u001b[39;49m\u001b[38;5;130;43;01m\\n\u001b[39;49;00m\u001b[33;43m    \u001b[39;49m\u001b[33;43m\"\u001b[39;49m\u001b[33;43m\"\u001b[39;49m\u001b[33;43m\"\u001b[39;49m\u001b[38;5;130;43;01m\\n\u001b[39;49;00m\u001b[33;43m    Test 4 (na maksymalną ocenę 5): Sprawdza, czy model osiąga co najmniej 70\u001b[39;49m\u001b[38;5;132;43;01m% d\u001b[39;49;00m\u001b[33;43mokładności.\u001b[39;49m\u001b[38;5;130;43;01m\\n\u001b[39;49;00m\u001b[33;43m    \u001b[39;49m\u001b[33;43m\"\u001b[39;49m\u001b[33;43m\"\u001b[39;49m\u001b[33;43m\"\u001b[39;49m\u001b[38;5;130;43;01m\\n\u001b[39;49;00m\u001b[33;43m    accuracy = get_accuracy()\u001b[39;49m\u001b[38;5;130;43;01m\\n\u001b[39;49;00m\u001b[33;43m    assert accuracy >= 0.7, f\u001b[39;49m\u001b[33;43m\"\u001b[39;49m\u001b[33;43mDokładność modelu powinna wynosić co najmniej 70\u001b[39;49m\u001b[33;43m%\u001b[39;49m\u001b[33;43m, ale wynosi \u001b[39;49m\u001b[38;5;132;43;01m{accuracy:.2f}\u001b[39;49;00m\u001b[33;43m\"\u001b[39;49m\u001b[38;5;130;43;01m\\n\u001b[39;49;00m\u001b[33;43m'\u001b[39;49m\u001b[43m)\u001b[49m\n",
      "\u001b[36mFile \u001b[39m\u001b[32m~\\AppData\\Local\\Programs\\Python\\Python313\\Lib\\site-packages\\IPython\\core\\interactiveshell.py:2542\u001b[39m, in \u001b[36mInteractiveShell.run_cell_magic\u001b[39m\u001b[34m(self, magic_name, line, cell)\u001b[39m\n\u001b[32m   2540\u001b[39m \u001b[38;5;28;01mwith\u001b[39;00m \u001b[38;5;28mself\u001b[39m.builtin_trap:\n\u001b[32m   2541\u001b[39m     args = (magic_arg_s, cell)\n\u001b[32m-> \u001b[39m\u001b[32m2542\u001b[39m     result = \u001b[43mfn\u001b[49m\u001b[43m(\u001b[49m\u001b[43m*\u001b[49m\u001b[43margs\u001b[49m\u001b[43m,\u001b[49m\u001b[43m \u001b[49m\u001b[43m*\u001b[49m\u001b[43m*\u001b[49m\u001b[43mkwargs\u001b[49m\u001b[43m)\u001b[49m\n\u001b[32m   2544\u001b[39m \u001b[38;5;66;03m# The code below prevents the output from being displayed\u001b[39;00m\n\u001b[32m   2545\u001b[39m \u001b[38;5;66;03m# when using magics with decorator @output_can_be_silenced\u001b[39;00m\n\u001b[32m   2546\u001b[39m \u001b[38;5;66;03m# when the last Python token in the expression is a ';'.\u001b[39;00m\n\u001b[32m   2547\u001b[39m \u001b[38;5;28;01mif\u001b[39;00m \u001b[38;5;28mgetattr\u001b[39m(fn, magic.MAGIC_OUTPUT_CAN_BE_SILENCED, \u001b[38;5;28;01mFalse\u001b[39;00m):\n",
      "\u001b[36mFile \u001b[39m\u001b[32m~\\AppData\\Local\\Programs\\Python\\Python313\\Lib\\site-packages\\IPython\\core\\magics\\osm.py:854\u001b[39m, in \u001b[36mOSMagics.writefile\u001b[39m\u001b[34m(self, line, cell)\u001b[39m\n\u001b[32m    851\u001b[39m     \u001b[38;5;28mprint\u001b[39m(\u001b[33m\"\u001b[39m\u001b[33mWriting \u001b[39m\u001b[38;5;132;01m%s\u001b[39;00m\u001b[33m\"\u001b[39m % filename)\n\u001b[32m    853\u001b[39m mode = \u001b[33m'\u001b[39m\u001b[33ma\u001b[39m\u001b[33m'\u001b[39m \u001b[38;5;28;01mif\u001b[39;00m args.append \u001b[38;5;28;01melse\u001b[39;00m \u001b[33m'\u001b[39m\u001b[33mw\u001b[39m\u001b[33m'\u001b[39m\n\u001b[32m--> \u001b[39m\u001b[32m854\u001b[39m \u001b[38;5;28;01mwith\u001b[39;00m \u001b[43mio\u001b[49m\u001b[43m.\u001b[49m\u001b[43mopen\u001b[49m\u001b[43m(\u001b[49m\u001b[43mfilename\u001b[49m\u001b[43m,\u001b[49m\u001b[43m \u001b[49m\u001b[43mmode\u001b[49m\u001b[43m,\u001b[49m\u001b[43m \u001b[49m\u001b[43mencoding\u001b[49m\u001b[43m=\u001b[49m\u001b[33;43m'\u001b[39;49m\u001b[33;43mutf-8\u001b[39;49m\u001b[33;43m'\u001b[39;49m\u001b[43m)\u001b[49m \u001b[38;5;28;01mas\u001b[39;00m f:\n\u001b[32m    855\u001b[39m     f.write(cell)\n",
      "\u001b[31mFileNotFoundError\u001b[39m: [Errno 2] No such file or directory: 'C:\\\\Users\\\\julia\\\\JupyterNotebook\\\\NTPD4\\\\ML-CI-CD\\\\test_app.py'"
     ]
    }
   ],
   "source": [
    "%%writefile C:\\Users\\julia\\JupyterNotebook\\NTPD4\\ML-CI-CD\\test_app.py\n",
    "import numpy as np\n",
    "from model import train_and_predict, get_accuracy\n",
    "\n",
    "def test_predictions_not_none():\n",
    "    \"\"\"\n",
    "    Test 1: Sprawdza, czy otrzymujemy jakąkolwiek predykcję.\n",
    "    \"\"\"\n",
    "    preds, _ = train_and_predict()\n",
    "    assert preds is not None, \"Predictions should not be None.\"\n",
    "\n",
    "def test_predictions_length():\n",
    "    \"\"\"\n",
    "    Test 2 (na maksymalną ocenę 5): Sprawdza, czy długość listy predykcji jest większa od 0 i czy odpowiada liczbie próbek testowych.\n",
    "    \"\"\"\n",
    "    preds, y_test = train_and_predict()\n",
    "    assert len(preds) > 0, \"Lista predykcji powinna zawierać co najmniej jeden element.\"\n",
    "    assert len(preds) == len(y_test), f\"Długość predykcji ({len(preds)}) nie zgadza się z liczbą próbek testowych ({len(y_test)}).\"\n",
    "\n",
    "def test_predictions_value_range():\n",
    "    \"\"\"\n",
    "    Test 3 (na maksymalną ocenę 5): Sprawdza, czy wartości w predykcjach mieszczą się w spodziewanym zakresie: Dla zbioru Iris mamy 3 klasy (0, 1, 2).\n",
    "    \"\"\"\n",
    "    preds, _ = train_and_predict()\n",
    "    assert all(pred in [0, 1, 2] for pred in preds), f\"Predykcje powinny być w zakresie 0-2, ale znaleziono: {set(preds)}\"\n",
    "\n",
    "def test_model_accuracy():\n",
    "    \"\"\"\n",
    "    Test 4 (na maksymalną ocenę 5): Sprawdza, czy model osiąga co najmniej 70% dokładności.\n",
    "    \"\"\"\n",
    "    accuracy = get_accuracy()\n",
    "    assert accuracy >= 0.7, f\"Dokładność modelu powinna wynosić co najmniej 70%, ale wynosi {accuracy:.2f}\""
   ]
  },
  {
   "cell_type": "code",
   "execution_count": null,
   "id": "e6b58526-044b-4bb6-b3b4-7d962278340a",
   "metadata": {},
   "outputs": [],
   "source": []
  }
 ],
 "metadata": {
  "kernelspec": {
   "display_name": "Python 3 (ipykernel)",
   "language": "python",
   "name": "python3"
  },
  "language_info": {
   "codemirror_mode": {
    "name": "ipython",
    "version": 3
   },
   "file_extension": ".py",
   "mimetype": "text/x-python",
   "name": "python",
   "nbconvert_exporter": "python",
   "pygments_lexer": "ipython3",
   "version": "3.13.1"
  }
 },
 "nbformat": 4,
 "nbformat_minor": 5
}
